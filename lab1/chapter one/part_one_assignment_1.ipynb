{
 "cells": [
  {
   "cell_type": "markdown",
   "metadata": {},
   "source": [
    "# Lab 1 - notes \n",
    "## reading a _.conllu_ file with python"
   ]
  },
  {
   "cell_type": "code",
   "execution_count": 3,
   "metadata": {},
   "outputs": [],
   "source": [
    "# path to a conllu-file\n",
    "filename = [\"./en_pud-ud-test.conllu\",\"./fr_pud-ud-test.conllu\"]\n",
    "\n",
    "conl_en = []\n",
    "conl_fr = []\n",
    "# open and read line by line (there are several ways to do this, of course)\n",
    "for i in range(2):\n",
    "    with open(filename[i]) as f:\n",
    "        conl = [line[:-1].split('\\t') for line in f if len(line.split(\"\\t\")) == 10 ]\n",
    "    \n",
    "    if i == 0 :\n",
    "        conl_en = conl\n",
    "    if i == 1 :\n",
    "        conl_fr = conl\n",
    "\n",
    "\n",
    "   \n",
    "        # obs we are spliting on tab, required by the conll format\n",
    "        # obs we removed the last character of the line because it was a '\\n'\n",
    "   \n",
    "\n",
    "\n",
    "\n",
    "\n"
   ]
  },
  {
   "cell_type": "code",
   "execution_count": 4,
   "metadata": {},
   "outputs": [
    {
     "output_type": "execute_result",
     "data": {
      "text/plain": [
       "[['1',\n",
       "  '“',\n",
       "  '“',\n",
       "  'PUNCT',\n",
       "  '``',\n",
       "  '_',\n",
       "  '20',\n",
       "  'punct',\n",
       "  '20:punct',\n",
       "  'SpaceAfter=No'],\n",
       " ['2', 'While', 'while', 'SCONJ', 'IN', '_', '9', 'mark', '9:mark', '_'],\n",
       " ['3',\n",
       "  'much',\n",
       "  'much',\n",
       "  'ADJ',\n",
       "  'JJ',\n",
       "  'Degree=Pos',\n",
       "  '9',\n",
       "  'nsubj',\n",
       "  '9:nsubj',\n",
       "  '_'],\n",
       " ['4', 'of', 'of', 'ADP', 'IN', '_', '7', 'case', '7:case', '_'],\n",
       " ['5',\n",
       "  'the',\n",
       "  'the',\n",
       "  'DET',\n",
       "  'DT',\n",
       "  'Definite=Def|PronType=Art',\n",
       "  '7',\n",
       "  'det',\n",
       "  '7:det',\n",
       "  '_']]"
      ]
     },
     "metadata": {},
     "execution_count": 4
    }
   ],
   "source": [
    "conl_en[:5]"
   ]
  },
  {
   "cell_type": "code",
   "execution_count": 5,
   "metadata": {},
   "outputs": [
    {
     "output_type": "execute_result",
     "data": {
      "text/plain": [
       "[['1', '«', '«', 'PUNCT', '``', '_', '29', 'punct', '_', '_'],\n",
       " ['2',\n",
       "  'Alors',\n",
       "  'alors',\n",
       "  'ADV',\n",
       "  'RB',\n",
       "  '_',\n",
       "  '12',\n",
       "  'mark',\n",
       "  '_',\n",
       "  'wordform=alors'],\n",
       " ['3', 'que', 'que', 'SCONJ', 'IN', '_', '2', 'fixed', '_', '_'],\n",
       " ['4',\n",
       "  'la',\n",
       "  'le',\n",
       "  'DET',\n",
       "  'DT',\n",
       "  'Gender=Fem|Number=Sing',\n",
       "  '7',\n",
       "  'det',\n",
       "  '_',\n",
       "  '_'],\n",
       " ['5', 'plus', 'plus', 'ADV', 'RBR', '_', '6', 'advmod', '_', '_']]"
      ]
     },
     "metadata": {},
     "execution_count": 5
    }
   ],
   "source": [
    "conl_fr[:5]"
   ]
  },
  {
   "cell_type": "code",
   "execution_count": 6,
   "metadata": {
    "tags": []
   },
   "outputs": [],
   "source": [
    "# collect frequencies for POS labs in a dictionary\n",
    "pos_freqs_en = dict()\n",
    "pos_freqs_fr = dict()\n",
    "pos_freqs = dict()\n",
    "conls = [conl_en, conl_fr]\n",
    "for i in range(2):\n",
    "    if i == 0 :\n",
    "        for alist in conls[i]:\n",
    "            if alist[3] in pos_freqs_en.keys():\n",
    "                pos_freqs_en[alist[3]] += 1\n",
    "            else:\n",
    "                pos_freqs_en[alist[3]] = 1\n",
    "    else :\n",
    "        for alist in conls[i]:\n",
    "            if alist[3] in pos_freqs_fr.keys():\n",
    "                pos_freqs_fr[alist[3]] += 1\n",
    "            else:\n",
    "                pos_freqs_fr[alist[3]] = 1\n",
    "        \n",
    "    \n",
    "    \n",
    "\n",
    " \n",
    "\n",
    "    \n",
    "\n",
    "    # equivalent to method \"dict.get()\"    \n",
    "      "
   ]
  },
  {
   "cell_type": "code",
   "execution_count": 7,
   "metadata": {},
   "outputs": [
    {
     "output_type": "execute_result",
     "data": {
      "text/plain": [
       "{'PUNCT': 2451,\n",
       " 'SCONJ': 290,\n",
       " 'ADJ': 1540,\n",
       " 'ADP': 2493,\n",
       " 'DET': 2086,\n",
       " 'NOUN': 4040,\n",
       " 'AUX': 1014,\n",
       " 'PROPN': 1727,\n",
       " 'ADV': 849,\n",
       " 'VERB': 2156,\n",
       " 'PRON': 1021,\n",
       " 'CCONJ': 576,\n",
       " 'PART': 426,\n",
       " 'SYM': 42,\n",
       " 'NUM': 455,\n",
       " 'INTJ': 1,\n",
       " 'X': 16}"
      ]
     },
     "metadata": {},
     "execution_count": 7
    }
   ],
   "source": [
    "pos_freqs_en\n",
    "\n",
    "\n"
   ]
  },
  {
   "cell_type": "code",
   "execution_count": 8,
   "metadata": {},
   "outputs": [
    {
     "output_type": "execute_result",
     "data": {
      "text/plain": [
       "{'PUNCT': 2554,\n",
       " 'ADV': 1032,\n",
       " 'SCONJ': 211,\n",
       " 'DET': 3880,\n",
       " 'ADJ': 1603,\n",
       " 'NOUN': 4696,\n",
       " 'ADP': 3903,\n",
       " 'VERB': 2255,\n",
       " '_': 597,\n",
       " 'PROPN': 1271,\n",
       " 'PRON': 1063,\n",
       " 'AUX': 1028,\n",
       " 'CCONJ': 561,\n",
       " 'NUM': 451,\n",
       " 'X': 180,\n",
       " 'SYM': 38,\n",
       " 'PART': 8}"
      ]
     },
     "metadata": {},
     "execution_count": 8
    }
   ],
   "source": [
    "pos_freqs_fr"
   ]
  },
  {
   "cell_type": "code",
   "execution_count": 9,
   "metadata": {},
   "outputs": [],
   "source": [
    "# sort the dictionary in descending order gives me a top\n",
    "pos_freqs_en_top = dict(sorted(pos_freqs_en.items(), key=lambda item: item[1], reverse = True))\n",
    "pos_freqs_fr_top = dict(sorted(pos_freqs_fr.items(), key=lambda item: item[1], reverse = True))  \n"
   ]
  },
  {
   "cell_type": "code",
   "execution_count": 10,
   "metadata": {},
   "outputs": [
    {
     "output_type": "execute_result",
     "data": {
      "text/plain": [
       "{'NOUN': 4040,\n",
       " 'ADP': 2493,\n",
       " 'PUNCT': 2451,\n",
       " 'VERB': 2156,\n",
       " 'DET': 2086,\n",
       " 'PROPN': 1727,\n",
       " 'ADJ': 1540,\n",
       " 'PRON': 1021,\n",
       " 'AUX': 1014,\n",
       " 'ADV': 849,\n",
       " 'CCONJ': 576,\n",
       " 'NUM': 455,\n",
       " 'PART': 426,\n",
       " 'SCONJ': 290,\n",
       " 'SYM': 42,\n",
       " 'X': 16,\n",
       " 'INTJ': 1}"
      ]
     },
     "metadata": {},
     "execution_count": 10
    }
   ],
   "source": [
    "pos_freqs_en_top"
   ]
  },
  {
   "cell_type": "code",
   "execution_count": 11,
   "metadata": {},
   "outputs": [
    {
     "output_type": "execute_result",
     "data": {
      "text/plain": [
       "{'NOUN': 4696,\n",
       " 'ADP': 3903,\n",
       " 'DET': 3880,\n",
       " 'PUNCT': 2554,\n",
       " 'VERB': 2255,\n",
       " 'ADJ': 1603,\n",
       " 'PROPN': 1271,\n",
       " 'PRON': 1063,\n",
       " 'ADV': 1032,\n",
       " 'AUX': 1028,\n",
       " '_': 597,\n",
       " 'CCONJ': 561,\n",
       " 'NUM': 451,\n",
       " 'SCONJ': 211,\n",
       " 'X': 180,\n",
       " 'SYM': 38,\n",
       " 'PART': 8}"
      ]
     },
     "metadata": {},
     "execution_count": 11
    }
   ],
   "source": [
    "pos_freqs_fr_top"
   ]
  },
  {
   "cell_type": "code",
   "execution_count": 12,
   "metadata": {},
   "outputs": [],
   "source": [
    "\n",
    "#Put labels and values in a separate list to add them to the matrix\n",
    "en_value = list(val for val in pos_freqs_en_top.values())\n",
    "en_tags = list(key for key in pos_freqs_en_top.keys())\n",
    "fr_value = list(val for val in pos_freqs_fr_top.values())\n",
    "fr_tags = list(key for key in pos_freqs_fr_top.keys())\n",
    "         "
   ]
  },
  {
   "cell_type": "code",
   "execution_count": 19,
   "metadata": {},
   "outputs": [
    {
     "output_type": "execute_result",
     "data": {
      "text/plain": [
       "   TOP_POS_EN  POS_EN_values TOP_POS_FR  POS_FR_values\n",
       "0        NOUN           4040       NOUN           4696\n",
       "1         ADP           2493        ADP           3903\n",
       "2       PUNCT           2451        DET           3880\n",
       "3        VERB           2156      PUNCT           2554\n",
       "4         DET           2086       VERB           2255\n",
       "5       PROPN           1727        ADJ           1603\n",
       "6         ADJ           1540      PROPN           1271\n",
       "7        PRON           1021       PRON           1063\n",
       "8         AUX           1014        ADV           1032\n",
       "9         ADV            849        AUX           1028\n",
       "10      CCONJ            576          _            597\n",
       "11        NUM            455      CCONJ            561\n",
       "12       PART            426        NUM            451\n",
       "13      SCONJ            290      SCONJ            211\n",
       "14        SYM             42          X            180\n",
       "15          X             16        SYM             38\n",
       "16       INTJ              1       PART              8"
      ],
      "text/html": "<div>\n<style scoped>\n    .dataframe tbody tr th:only-of-type {\n        vertical-align: middle;\n    }\n\n    .dataframe tbody tr th {\n        vertical-align: top;\n    }\n\n    .dataframe thead th {\n        text-align: right;\n    }\n</style>\n<table border=\"1\" class=\"dataframe\">\n  <thead>\n    <tr style=\"text-align: right;\">\n      <th></th>\n      <th>TOP_POS_EN</th>\n      <th>POS_EN_values</th>\n      <th>TOP_POS_FR</th>\n      <th>POS_FR_values</th>\n    </tr>\n  </thead>\n  <tbody>\n    <tr>\n      <th>0</th>\n      <td>NOUN</td>\n      <td>4040</td>\n      <td>NOUN</td>\n      <td>4696</td>\n    </tr>\n    <tr>\n      <th>1</th>\n      <td>ADP</td>\n      <td>2493</td>\n      <td>ADP</td>\n      <td>3903</td>\n    </tr>\n    <tr>\n      <th>2</th>\n      <td>PUNCT</td>\n      <td>2451</td>\n      <td>DET</td>\n      <td>3880</td>\n    </tr>\n    <tr>\n      <th>3</th>\n      <td>VERB</td>\n      <td>2156</td>\n      <td>PUNCT</td>\n      <td>2554</td>\n    </tr>\n    <tr>\n      <th>4</th>\n      <td>DET</td>\n      <td>2086</td>\n      <td>VERB</td>\n      <td>2255</td>\n    </tr>\n    <tr>\n      <th>5</th>\n      <td>PROPN</td>\n      <td>1727</td>\n      <td>ADJ</td>\n      <td>1603</td>\n    </tr>\n    <tr>\n      <th>6</th>\n      <td>ADJ</td>\n      <td>1540</td>\n      <td>PROPN</td>\n      <td>1271</td>\n    </tr>\n    <tr>\n      <th>7</th>\n      <td>PRON</td>\n      <td>1021</td>\n      <td>PRON</td>\n      <td>1063</td>\n    </tr>\n    <tr>\n      <th>8</th>\n      <td>AUX</td>\n      <td>1014</td>\n      <td>ADV</td>\n      <td>1032</td>\n    </tr>\n    <tr>\n      <th>9</th>\n      <td>ADV</td>\n      <td>849</td>\n      <td>AUX</td>\n      <td>1028</td>\n    </tr>\n    <tr>\n      <th>10</th>\n      <td>CCONJ</td>\n      <td>576</td>\n      <td>_</td>\n      <td>597</td>\n    </tr>\n    <tr>\n      <th>11</th>\n      <td>NUM</td>\n      <td>455</td>\n      <td>CCONJ</td>\n      <td>561</td>\n    </tr>\n    <tr>\n      <th>12</th>\n      <td>PART</td>\n      <td>426</td>\n      <td>NUM</td>\n      <td>451</td>\n    </tr>\n    <tr>\n      <th>13</th>\n      <td>SCONJ</td>\n      <td>290</td>\n      <td>SCONJ</td>\n      <td>211</td>\n    </tr>\n    <tr>\n      <th>14</th>\n      <td>SYM</td>\n      <td>42</td>\n      <td>X</td>\n      <td>180</td>\n    </tr>\n    <tr>\n      <th>15</th>\n      <td>X</td>\n      <td>16</td>\n      <td>SYM</td>\n      <td>38</td>\n    </tr>\n    <tr>\n      <th>16</th>\n      <td>INTJ</td>\n      <td>1</td>\n      <td>PART</td>\n      <td>8</td>\n    </tr>\n  </tbody>\n</table>\n</div>"
     },
     "metadata": {},
     "execution_count": 19
    }
   ],
   "source": [
    "from pandas import DataFrame as df\n",
    "top_freq_tags = df({\"TOP_POS_EN\": en_tags, \"POS_EN_values\": en_value, \"TOP_POS_FR\": fr_tags, \"POS_FR_values\": fr_value})\n",
    "top_freq_tags\n",
    "\n",
    "#As it can be seen, The number of Nouns and Adpositions is almost equal (french values are higher), but in detail in French we use more words than in English "
   ]
  },
  {
   "cell_type": "code",
   "execution_count": 86,
   "metadata": {},
   "outputs": [],
   "source": [
    "TOP_POS_EN = []\n",
    "TOP_POS_FR = []\n",
    "TOP_POS = []\n",
    "Contestant = []\n",
    "value = []\n",
    "for i in range(len(en_tags)):\n",
    "    TOP_POS_EN.append(\"TOP_POS_EN\")\n",
    "    TOP_POS_FR.append(\"TOP_POS_FR\")\n",
    "Contestant = TOP_POS_EN + TOP_POS_FR\n",
    "TOP_POS = en_tags + fr_tags\n",
    "value = en_value + fr_value\n",
    "\n"
   ]
  },
  {
   "cell_type": "code",
   "execution_count": 94,
   "metadata": {},
   "outputs": [
    {
     "output_type": "display_data",
     "data": {
      "application/vnd.plotly.v1+json": {
       "config": {
        "plotlyServerURL": "https://plot.ly"
       },
       "data": [
        {
         "alignmentgroup": "True",
         "hovertemplate": "Contestant=TOP_POS_EN<br>TOP_POS=%{x}<br>value_POS=%{y}<extra></extra>",
         "legendgroup": "TOP_POS_EN",
         "marker": {
          "color": "#636efa"
         },
         "name": "TOP_POS_EN",
         "offsetgroup": "TOP_POS_EN",
         "orientation": "v",
         "showlegend": true,
         "textposition": "auto",
         "type": "bar",
         "x": [
          "NOUN",
          "ADP",
          "PUNCT",
          "VERB",
          "DET",
          "PROPN",
          "ADJ",
          "PRON",
          "AUX",
          "ADV",
          "CCONJ",
          "NUM",
          "PART",
          "SCONJ",
          "SYM",
          "X",
          "INTJ"
         ],
         "xaxis": "x",
         "y": [
          4040,
          2493,
          2451,
          2156,
          2086,
          1727,
          1540,
          1021,
          1014,
          849,
          576,
          455,
          426,
          290,
          42,
          16,
          1
         ],
         "yaxis": "y"
        },
        {
         "alignmentgroup": "True",
         "hovertemplate": "Contestant=TOP_POS_FR<br>TOP_POS=%{x}<br>value_POS=%{y}<extra></extra>",
         "legendgroup": "TOP_POS_FR",
         "marker": {
          "color": "#EF553B"
         },
         "name": "TOP_POS_FR",
         "offsetgroup": "TOP_POS_FR",
         "orientation": "v",
         "showlegend": true,
         "textposition": "auto",
         "type": "bar",
         "x": [
          "NOUN",
          "ADP",
          "DET",
          "PUNCT",
          "VERB",
          "ADJ",
          "PROPN",
          "PRON",
          "ADV",
          "AUX",
          "_",
          "CCONJ",
          "NUM",
          "SCONJ",
          "X",
          "SYM",
          "PART"
         ],
         "xaxis": "x",
         "y": [
          4696,
          3903,
          3880,
          2554,
          2255,
          1603,
          1271,
          1063,
          1032,
          1028,
          597,
          561,
          451,
          211,
          180,
          38,
          8
         ],
         "yaxis": "y"
        }
       ],
       "layout": {
        "barmode": "group",
        "legend": {
         "title": {
          "text": "Contestant"
         },
         "tracegroupgap": 0
        },
        "margin": {
         "t": 60
        },
        "template": {
         "data": {
          "bar": [
           {
            "error_x": {
             "color": "#2a3f5f"
            },
            "error_y": {
             "color": "#2a3f5f"
            },
            "marker": {
             "line": {
              "color": "#E5ECF6",
              "width": 0.5
             }
            },
            "type": "bar"
           }
          ],
          "barpolar": [
           {
            "marker": {
             "line": {
              "color": "#E5ECF6",
              "width": 0.5
             }
            },
            "type": "barpolar"
           }
          ],
          "carpet": [
           {
            "aaxis": {
             "endlinecolor": "#2a3f5f",
             "gridcolor": "white",
             "linecolor": "white",
             "minorgridcolor": "white",
             "startlinecolor": "#2a3f5f"
            },
            "baxis": {
             "endlinecolor": "#2a3f5f",
             "gridcolor": "white",
             "linecolor": "white",
             "minorgridcolor": "white",
             "startlinecolor": "#2a3f5f"
            },
            "type": "carpet"
           }
          ],
          "choropleth": [
           {
            "colorbar": {
             "outlinewidth": 0,
             "ticks": ""
            },
            "type": "choropleth"
           }
          ],
          "contour": [
           {
            "colorbar": {
             "outlinewidth": 0,
             "ticks": ""
            },
            "colorscale": [
             [
              0,
              "#0d0887"
             ],
             [
              0.1111111111111111,
              "#46039f"
             ],
             [
              0.2222222222222222,
              "#7201a8"
             ],
             [
              0.3333333333333333,
              "#9c179e"
             ],
             [
              0.4444444444444444,
              "#bd3786"
             ],
             [
              0.5555555555555556,
              "#d8576b"
             ],
             [
              0.6666666666666666,
              "#ed7953"
             ],
             [
              0.7777777777777778,
              "#fb9f3a"
             ],
             [
              0.8888888888888888,
              "#fdca26"
             ],
             [
              1,
              "#f0f921"
             ]
            ],
            "type": "contour"
           }
          ],
          "contourcarpet": [
           {
            "colorbar": {
             "outlinewidth": 0,
             "ticks": ""
            },
            "type": "contourcarpet"
           }
          ],
          "heatmap": [
           {
            "colorbar": {
             "outlinewidth": 0,
             "ticks": ""
            },
            "colorscale": [
             [
              0,
              "#0d0887"
             ],
             [
              0.1111111111111111,
              "#46039f"
             ],
             [
              0.2222222222222222,
              "#7201a8"
             ],
             [
              0.3333333333333333,
              "#9c179e"
             ],
             [
              0.4444444444444444,
              "#bd3786"
             ],
             [
              0.5555555555555556,
              "#d8576b"
             ],
             [
              0.6666666666666666,
              "#ed7953"
             ],
             [
              0.7777777777777778,
              "#fb9f3a"
             ],
             [
              0.8888888888888888,
              "#fdca26"
             ],
             [
              1,
              "#f0f921"
             ]
            ],
            "type": "heatmap"
           }
          ],
          "heatmapgl": [
           {
            "colorbar": {
             "outlinewidth": 0,
             "ticks": ""
            },
            "colorscale": [
             [
              0,
              "#0d0887"
             ],
             [
              0.1111111111111111,
              "#46039f"
             ],
             [
              0.2222222222222222,
              "#7201a8"
             ],
             [
              0.3333333333333333,
              "#9c179e"
             ],
             [
              0.4444444444444444,
              "#bd3786"
             ],
             [
              0.5555555555555556,
              "#d8576b"
             ],
             [
              0.6666666666666666,
              "#ed7953"
             ],
             [
              0.7777777777777778,
              "#fb9f3a"
             ],
             [
              0.8888888888888888,
              "#fdca26"
             ],
             [
              1,
              "#f0f921"
             ]
            ],
            "type": "heatmapgl"
           }
          ],
          "histogram": [
           {
            "marker": {
             "colorbar": {
              "outlinewidth": 0,
              "ticks": ""
             }
            },
            "type": "histogram"
           }
          ],
          "histogram2d": [
           {
            "colorbar": {
             "outlinewidth": 0,
             "ticks": ""
            },
            "colorscale": [
             [
              0,
              "#0d0887"
             ],
             [
              0.1111111111111111,
              "#46039f"
             ],
             [
              0.2222222222222222,
              "#7201a8"
             ],
             [
              0.3333333333333333,
              "#9c179e"
             ],
             [
              0.4444444444444444,
              "#bd3786"
             ],
             [
              0.5555555555555556,
              "#d8576b"
             ],
             [
              0.6666666666666666,
              "#ed7953"
             ],
             [
              0.7777777777777778,
              "#fb9f3a"
             ],
             [
              0.8888888888888888,
              "#fdca26"
             ],
             [
              1,
              "#f0f921"
             ]
            ],
            "type": "histogram2d"
           }
          ],
          "histogram2dcontour": [
           {
            "colorbar": {
             "outlinewidth": 0,
             "ticks": ""
            },
            "colorscale": [
             [
              0,
              "#0d0887"
             ],
             [
              0.1111111111111111,
              "#46039f"
             ],
             [
              0.2222222222222222,
              "#7201a8"
             ],
             [
              0.3333333333333333,
              "#9c179e"
             ],
             [
              0.4444444444444444,
              "#bd3786"
             ],
             [
              0.5555555555555556,
              "#d8576b"
             ],
             [
              0.6666666666666666,
              "#ed7953"
             ],
             [
              0.7777777777777778,
              "#fb9f3a"
             ],
             [
              0.8888888888888888,
              "#fdca26"
             ],
             [
              1,
              "#f0f921"
             ]
            ],
            "type": "histogram2dcontour"
           }
          ],
          "mesh3d": [
           {
            "colorbar": {
             "outlinewidth": 0,
             "ticks": ""
            },
            "type": "mesh3d"
           }
          ],
          "parcoords": [
           {
            "line": {
             "colorbar": {
              "outlinewidth": 0,
              "ticks": ""
             }
            },
            "type": "parcoords"
           }
          ],
          "pie": [
           {
            "automargin": true,
            "type": "pie"
           }
          ],
          "scatter": [
           {
            "marker": {
             "colorbar": {
              "outlinewidth": 0,
              "ticks": ""
             }
            },
            "type": "scatter"
           }
          ],
          "scatter3d": [
           {
            "line": {
             "colorbar": {
              "outlinewidth": 0,
              "ticks": ""
             }
            },
            "marker": {
             "colorbar": {
              "outlinewidth": 0,
              "ticks": ""
             }
            },
            "type": "scatter3d"
           }
          ],
          "scattercarpet": [
           {
            "marker": {
             "colorbar": {
              "outlinewidth": 0,
              "ticks": ""
             }
            },
            "type": "scattercarpet"
           }
          ],
          "scattergeo": [
           {
            "marker": {
             "colorbar": {
              "outlinewidth": 0,
              "ticks": ""
             }
            },
            "type": "scattergeo"
           }
          ],
          "scattergl": [
           {
            "marker": {
             "colorbar": {
              "outlinewidth": 0,
              "ticks": ""
             }
            },
            "type": "scattergl"
           }
          ],
          "scattermapbox": [
           {
            "marker": {
             "colorbar": {
              "outlinewidth": 0,
              "ticks": ""
             }
            },
            "type": "scattermapbox"
           }
          ],
          "scatterpolar": [
           {
            "marker": {
             "colorbar": {
              "outlinewidth": 0,
              "ticks": ""
             }
            },
            "type": "scatterpolar"
           }
          ],
          "scatterpolargl": [
           {
            "marker": {
             "colorbar": {
              "outlinewidth": 0,
              "ticks": ""
             }
            },
            "type": "scatterpolargl"
           }
          ],
          "scatterternary": [
           {
            "marker": {
             "colorbar": {
              "outlinewidth": 0,
              "ticks": ""
             }
            },
            "type": "scatterternary"
           }
          ],
          "surface": [
           {
            "colorbar": {
             "outlinewidth": 0,
             "ticks": ""
            },
            "colorscale": [
             [
              0,
              "#0d0887"
             ],
             [
              0.1111111111111111,
              "#46039f"
             ],
             [
              0.2222222222222222,
              "#7201a8"
             ],
             [
              0.3333333333333333,
              "#9c179e"
             ],
             [
              0.4444444444444444,
              "#bd3786"
             ],
             [
              0.5555555555555556,
              "#d8576b"
             ],
             [
              0.6666666666666666,
              "#ed7953"
             ],
             [
              0.7777777777777778,
              "#fb9f3a"
             ],
             [
              0.8888888888888888,
              "#fdca26"
             ],
             [
              1,
              "#f0f921"
             ]
            ],
            "type": "surface"
           }
          ],
          "table": [
           {
            "cells": {
             "fill": {
              "color": "#EBF0F8"
             },
             "line": {
              "color": "white"
             }
            },
            "header": {
             "fill": {
              "color": "#C8D4E3"
             },
             "line": {
              "color": "white"
             }
            },
            "type": "table"
           }
          ]
         },
         "layout": {
          "annotationdefaults": {
           "arrowcolor": "#2a3f5f",
           "arrowhead": 0,
           "arrowwidth": 1
          },
          "autotypenumbers": "strict",
          "coloraxis": {
           "colorbar": {
            "outlinewidth": 0,
            "ticks": ""
           }
          },
          "colorscale": {
           "diverging": [
            [
             0,
             "#8e0152"
            ],
            [
             0.1,
             "#c51b7d"
            ],
            [
             0.2,
             "#de77ae"
            ],
            [
             0.3,
             "#f1b6da"
            ],
            [
             0.4,
             "#fde0ef"
            ],
            [
             0.5,
             "#f7f7f7"
            ],
            [
             0.6,
             "#e6f5d0"
            ],
            [
             0.7,
             "#b8e186"
            ],
            [
             0.8,
             "#7fbc41"
            ],
            [
             0.9,
             "#4d9221"
            ],
            [
             1,
             "#276419"
            ]
           ],
           "sequential": [
            [
             0,
             "#0d0887"
            ],
            [
             0.1111111111111111,
             "#46039f"
            ],
            [
             0.2222222222222222,
             "#7201a8"
            ],
            [
             0.3333333333333333,
             "#9c179e"
            ],
            [
             0.4444444444444444,
             "#bd3786"
            ],
            [
             0.5555555555555556,
             "#d8576b"
            ],
            [
             0.6666666666666666,
             "#ed7953"
            ],
            [
             0.7777777777777778,
             "#fb9f3a"
            ],
            [
             0.8888888888888888,
             "#fdca26"
            ],
            [
             1,
             "#f0f921"
            ]
           ],
           "sequentialminus": [
            [
             0,
             "#0d0887"
            ],
            [
             0.1111111111111111,
             "#46039f"
            ],
            [
             0.2222222222222222,
             "#7201a8"
            ],
            [
             0.3333333333333333,
             "#9c179e"
            ],
            [
             0.4444444444444444,
             "#bd3786"
            ],
            [
             0.5555555555555556,
             "#d8576b"
            ],
            [
             0.6666666666666666,
             "#ed7953"
            ],
            [
             0.7777777777777778,
             "#fb9f3a"
            ],
            [
             0.8888888888888888,
             "#fdca26"
            ],
            [
             1,
             "#f0f921"
            ]
           ]
          },
          "colorway": [
           "#636efa",
           "#EF553B",
           "#00cc96",
           "#ab63fa",
           "#FFA15A",
           "#19d3f3",
           "#FF6692",
           "#B6E880",
           "#FF97FF",
           "#FECB52"
          ],
          "font": {
           "color": "#2a3f5f"
          },
          "geo": {
           "bgcolor": "white",
           "lakecolor": "white",
           "landcolor": "#E5ECF6",
           "showlakes": true,
           "showland": true,
           "subunitcolor": "white"
          },
          "hoverlabel": {
           "align": "left"
          },
          "hovermode": "closest",
          "mapbox": {
           "style": "light"
          },
          "paper_bgcolor": "white",
          "plot_bgcolor": "#E5ECF6",
          "polar": {
           "angularaxis": {
            "gridcolor": "white",
            "linecolor": "white",
            "ticks": ""
           },
           "bgcolor": "#E5ECF6",
           "radialaxis": {
            "gridcolor": "white",
            "linecolor": "white",
            "ticks": ""
           }
          },
          "scene": {
           "xaxis": {
            "backgroundcolor": "#E5ECF6",
            "gridcolor": "white",
            "gridwidth": 2,
            "linecolor": "white",
            "showbackground": true,
            "ticks": "",
            "zerolinecolor": "white"
           },
           "yaxis": {
            "backgroundcolor": "#E5ECF6",
            "gridcolor": "white",
            "gridwidth": 2,
            "linecolor": "white",
            "showbackground": true,
            "ticks": "",
            "zerolinecolor": "white"
           },
           "zaxis": {
            "backgroundcolor": "#E5ECF6",
            "gridcolor": "white",
            "gridwidth": 2,
            "linecolor": "white",
            "showbackground": true,
            "ticks": "",
            "zerolinecolor": "white"
           }
          },
          "shapedefaults": {
           "line": {
            "color": "#2a3f5f"
           }
          },
          "ternary": {
           "aaxis": {
            "gridcolor": "white",
            "linecolor": "white",
            "ticks": ""
           },
           "baxis": {
            "gridcolor": "white",
            "linecolor": "white",
            "ticks": ""
           },
           "bgcolor": "#E5ECF6",
           "caxis": {
            "gridcolor": "white",
            "linecolor": "white",
            "ticks": ""
           }
          },
          "title": {
           "x": 0.05
          },
          "xaxis": {
           "automargin": true,
           "gridcolor": "white",
           "linecolor": "white",
           "ticks": "",
           "title": {
            "standoff": 15
           },
           "zerolinecolor": "white",
           "zerolinewidth": 2
          },
          "yaxis": {
           "automargin": true,
           "gridcolor": "white",
           "linecolor": "white",
           "ticks": "",
           "title": {
            "standoff": 15
           },
           "zerolinecolor": "white",
           "zerolinewidth": 2
          }
         }
        },
        "xaxis": {
         "anchor": "y",
         "domain": [
          0,
          1
         ],
         "title": {
          "text": "TOP_POS"
         }
        },
        "yaxis": {
         "anchor": "x",
         "domain": [
          0,
          1
         ],
         "title": {
          "text": "value_POS"
         }
        }
       }
      }
     },
     "metadata": {}
    }
   ],
   "source": [
    "import pandas as pd\n",
    "\n",
    "\n",
    "df = pd.DataFrame({\n",
    "\n",
    "    \"TOP_POS\" : TOP_POS,\n",
    "    \"Contestant\": Contestant,\n",
    "    \"value_POS\": value,\n",
    "})\n",
    "\n",
    "import plotly.express as px\n",
    "\n",
    "fig = px.bar(df, x=\"TOP_POS\", y=\"value_POS\", color=\"Contestant\", barmode=\"group\")\n",
    "fig.show()\n",
    "\n"
   ]
  },
  {
   "cell_type": "code",
   "execution_count": 95,
   "metadata": {},
   "outputs": [],
   "source": [
    "##### using the package CONLLU ##########\n",
    "import conllu"
   ]
  },
  {
   "cell_type": "code",
   "execution_count": 96,
   "metadata": {},
   "outputs": [],
   "source": [
    "\n",
    "    \n",
    "filename = [\"./en_pud-ud-test.conllu\",\"./fr_pud-ud-test.conllu\"]\n",
    "sentences_EN = [] \n",
    "sentences_FR = []\n",
    "\n",
    "for i in range(2):\n",
    "    with open(filename[i], 'r') as file:\n",
    "        data = file.read()\n",
    "    sentences = conllu.parse(data)\n",
    "    if i == 0 :\n",
    "        sentences_EN = sentences\n",
    "    if i == 1 :\n",
    "        sentences_FR = sentences\n",
    "\n"
   ]
  },
  {
   "cell_type": "code",
   "execution_count": 97,
   "metadata": {},
   "outputs": [
    {
     "output_type": "execute_result",
     "data": {
      "text/plain": [
       "[TokenList<“, While, much, of, the, digital, transition, is, unprecedented, in, the, United, States, ,, the, peaceful, transition, of, power, is, not, ,, ”, Obama, special, assistant, Kori, Schulman, wrote, in, a, blog, post, Monday, .>,\n",
       " TokenList<For, those, who, follow, social, media, transitions, on, Capitol, Hill, ,, this, will, be, a, little, different, .>]"
      ]
     },
     "metadata": {},
     "execution_count": 97
    }
   ],
   "source": [
    "sentences_EN[:2]"
   ]
  },
  {
   "cell_type": "code",
   "execution_count": 98,
   "metadata": {},
   "outputs": [
    {
     "output_type": "execute_result",
     "data": {
      "text/plain": [
       "[TokenList<«, Alors, que, la, plus, grande, partie, de, la, transition, numérique, est, sans, précédent, aux, à, les, États-Unis, ,, la, transition, sereine, du, de, le, pouvoir, ,, elle, ,, ne, l', est, pas, ,, », a, publié, Kori, Schulman, ,, assistante, spéciale, d', Obama, ,, dans, un, blog, ce, lundi, .>,\n",
       " TokenList<Pour, ceux, qui, suivent, la, transition, des, de, les, réseaux, sociaux, sur, le, Capitole, ,, cela, va, être, un, peu, différent, .>]"
      ]
     },
     "metadata": {},
     "execution_count": 98
    }
   ],
   "source": [
    "sentences_FR[:2]"
   ]
  },
  {
   "cell_type": "code",
   "execution_count": 104,
   "metadata": {},
   "outputs": [
    {
     "output_type": "execute_result",
     "data": {
      "text/plain": [
       "{'id': 8,\n",
       " 'form': 'is',\n",
       " 'lemma': 'be',\n",
       " 'upos': 'AUX',\n",
       " 'xpos': 'VBZ',\n",
       " 'feats': {'Mood': 'Ind',\n",
       "  'Number': 'Sing',\n",
       "  'Person': '3',\n",
       "  'Tense': 'Pres',\n",
       "  'VerbForm': 'Fin'},\n",
       " 'head': 9,\n",
       " 'deprel': 'cop',\n",
       " 'deps': [('cop', 9)],\n",
       " 'misc': None}"
      ]
     },
     "metadata": {},
     "execution_count": 104
    }
   ],
   "source": [
    "# Tokens are dictionaries of all 10 parameters of the conllu format\n",
    "sentence = sentences_EN[0]\n",
    "token = sentence[7]\n",
    "token"
   ]
  },
  {
   "cell_type": "code",
   "execution_count": 105,
   "metadata": {
    "tags": []
   },
   "outputs": [],
   "source": [
    "deprel_freqs_EN = dict()\n",
    "deprel_freqs_FR = dict()\n",
    "\n",
    "all_sentences = [sentences_EN, sentences_FR]\n",
    "for i in range(2):\n",
    "    if i == 0:\n",
    "        for sentence in all_sentences[i]:\n",
    "            for token in sentence:\n",
    "                deprel_freqs_EN[token[\"deprel\"]] = deprel_freqs_EN.get(token[\"deprel\"], 0) + 1\n",
    "                \n",
    "                \n",
    "\n",
    "    if i == 1:\n",
    "        for sentence in all_sentences[i]:\n",
    "            for token in sentence:\n",
    "                deprel_freqs_FR[token[\"deprel\"]] = deprel_freqs_FR.get(token[\"deprel\"], 0) + 1\n",
    "      \n",
    "\n",
    "\n"
   ]
  },
  {
   "cell_type": "code",
   "execution_count": 38,
   "metadata": {},
   "outputs": [
    {
     "output_type": "execute_result",
     "data": {
      "text/plain": [
       "{'punct': 2451,\n",
       " 'mark': 555,\n",
       " 'nsubj': 1393,\n",
       " 'case': 2499,\n",
       " 'det': 2047,\n",
       " 'amod': 1336,\n",
       " 'nmod': 1076,\n",
       " 'cop': 316,\n",
       " 'advcl': 293,\n",
       " 'compound': 810,\n",
       " 'obl': 1237,\n",
       " 'root': 1000,\n",
       " 'advmod': 852,\n",
       " 'flat': 230,\n",
       " 'parataxis': 97,\n",
       " 'nmod:tmod': 39,\n",
       " 'acl:relcl': 211,\n",
       " 'obj': 876,\n",
       " 'aux': 410,\n",
       " 'obl:npmod': 20,\n",
       " 'cc': 574,\n",
       " 'nmod:poss': 365,\n",
       " 'acl': 193,\n",
       " 'ccomp': 135,\n",
       " 'xcomp': 271,\n",
       " 'conj': 634,\n",
       " 'nsubj:pass': 239,\n",
       " 'aux:pass': 274,\n",
       " 'dislocated': 2,\n",
       " 'reparandum': 1,\n",
       " 'nummod': 254,\n",
       " 'appos': 143,\n",
       " 'fixed': 103,\n",
       " 'expl': 62,\n",
       " 'csubj': 27,\n",
       " 'iobj': 10,\n",
       " 'obl:tmod': 18,\n",
       " '_': 7,\n",
       " 'orphan': 7,\n",
       " 'compound:prt': 70,\n",
       " 'discourse': 1,\n",
       " 'vocative': 1,\n",
       " 'nmod:npmod': 19,\n",
       " 'cc:preconj': 11,\n",
       " 'det:predet': 9,\n",
       " 'goeswith': 1,\n",
       " 'dep': 1,\n",
       " 'csubj:pass': 3}"
      ]
     },
     "metadata": {},
     "execution_count": 38
    }
   ],
   "source": [
    "deprel_freqs_EN"
   ]
  },
  {
   "cell_type": "code",
   "execution_count": 106,
   "metadata": {},
   "outputs": [
    {
     "output_type": "execute_result",
     "data": {
      "text/plain": [
       "{'punct': 2554,\n",
       " 'mark': 466,\n",
       " 'fixed': 463,\n",
       " 'det': 3858,\n",
       " 'advmod': 921,\n",
       " 'amod': 1394,\n",
       " 'nsubj': 1418,\n",
       " 'case': 3415,\n",
       " 'nmod': 1859,\n",
       " 'advcl': 220,\n",
       " 'obl': 1438,\n",
       " '_': 597,\n",
       " 'dislocated': 3,\n",
       " 'parataxis': 107,\n",
       " 'cop': 226,\n",
       " 'aux:tense': 568,\n",
       " 'root': 1000,\n",
       " 'flat:name': 252,\n",
       " 'appos': 278,\n",
       " 'obl:mod': 80,\n",
       " 'acl:relcl': 226,\n",
       " 'obj': 1082,\n",
       " 'xcomp': 397,\n",
       " 'discourse': 31,\n",
       " 'acl': 149,\n",
       " 'ccomp': 173,\n",
       " 'iobj': 36,\n",
       " 'cc': 544,\n",
       " 'conj': 651,\n",
       " 'nsubj:pass': 200,\n",
       " 'aux:pass': 225,\n",
       " 'expl:subj': 83,\n",
       " 'nummod': 218,\n",
       " 'flat:foreign': 113,\n",
       " 'obj:agent': 4,\n",
       " 'aux:caus': 9,\n",
       " 'csubj': 23,\n",
       " 'vocative': 1,\n",
       " 'expl:comp': 28,\n",
       " 'nsubj:caus': 4,\n",
       " 'dep': 8,\n",
       " 'obl:agent': 1,\n",
       " 'orphan': 4,\n",
       " 'goeswith': 3,\n",
       " 'csubj:pass': 1}"
      ]
     },
     "metadata": {},
     "execution_count": 106
    }
   ],
   "source": [
    "deprel_freqs_FR"
   ]
  },
  {
   "cell_type": "code",
   "execution_count": 107,
   "metadata": {},
   "outputs": [],
   "source": [
    "\n",
    "# sort the dictionary in descending order gives me a top\n",
    "dep_freqs_EN_top = dict(sorted(deprel_freqs_EN.items(), key=lambda item: item[1], reverse = True))\n",
    "dep_freqs_FR_top = dict(sorted(deprel_freqs_FR.items(), key=lambda item: item[1], reverse = True))\n",
    "\n",
    "\n",
    "\n"
   ]
  },
  {
   "cell_type": "code",
   "execution_count": 113,
   "metadata": {},
   "outputs": [
    {
     "output_type": "execute_result",
     "data": {
      "text/plain": [
       "{'case': 2499,\n",
       " 'punct': 2451,\n",
       " 'det': 2047,\n",
       " 'nsubj': 1393,\n",
       " 'amod': 1336,\n",
       " 'obl': 1237,\n",
       " 'nmod': 1076,\n",
       " 'root': 1000,\n",
       " 'obj': 876,\n",
       " 'advmod': 852,\n",
       " 'compound': 810,\n",
       " 'conj': 634,\n",
       " 'cc': 574,\n",
       " 'mark': 555,\n",
       " 'aux': 410,\n",
       " 'nmod:poss': 365,\n",
       " 'cop': 316,\n",
       " 'advcl': 293,\n",
       " 'aux:pass': 274,\n",
       " 'xcomp': 271,\n",
       " 'nummod': 254,\n",
       " 'nsubj:pass': 239,\n",
       " 'flat': 230,\n",
       " 'acl:relcl': 211,\n",
       " 'acl': 193,\n",
       " 'appos': 143,\n",
       " 'ccomp': 135,\n",
       " 'fixed': 103,\n",
       " 'parataxis': 97,\n",
       " 'compound:prt': 70,\n",
       " 'expl': 62,\n",
       " 'nmod:tmod': 39,\n",
       " 'csubj': 27,\n",
       " 'obl:npmod': 20,\n",
       " 'nmod:npmod': 19,\n",
       " 'obl:tmod': 18,\n",
       " 'cc:preconj': 11,\n",
       " 'iobj': 10,\n",
       " 'det:predet': 9,\n",
       " '_': 7,\n",
       " 'orphan': 7,\n",
       " 'csubj:pass': 3,\n",
       " 'dislocated': 2,\n",
       " 'reparandum': 1,\n",
       " 'discourse': 1,\n",
       " 'vocative': 1,\n",
       " 'goeswith': 1,\n",
       " 'dep': 1}"
      ]
     },
     "metadata": {},
     "execution_count": 113
    }
   ],
   "source": [
    "dep_freqs_EN_top"
   ]
  },
  {
   "cell_type": "code",
   "execution_count": 108,
   "metadata": {},
   "outputs": [
    {
     "output_type": "execute_result",
     "data": {
      "text/plain": [
       "{'det': 3858,\n",
       " 'case': 3415,\n",
       " 'punct': 2554,\n",
       " 'nmod': 1859,\n",
       " 'obl': 1438,\n",
       " 'nsubj': 1418,\n",
       " 'amod': 1394,\n",
       " 'obj': 1082,\n",
       " 'root': 1000,\n",
       " 'advmod': 921,\n",
       " 'conj': 651,\n",
       " '_': 597,\n",
       " 'aux:tense': 568,\n",
       " 'cc': 544,\n",
       " 'mark': 466,\n",
       " 'fixed': 463,\n",
       " 'xcomp': 397,\n",
       " 'appos': 278,\n",
       " 'flat:name': 252,\n",
       " 'cop': 226,\n",
       " 'acl:relcl': 226,\n",
       " 'aux:pass': 225,\n",
       " 'advcl': 220,\n",
       " 'nummod': 218,\n",
       " 'nsubj:pass': 200,\n",
       " 'ccomp': 173,\n",
       " 'acl': 149,\n",
       " 'flat:foreign': 113,\n",
       " 'parataxis': 107,\n",
       " 'expl:subj': 83,\n",
       " 'obl:mod': 80,\n",
       " 'iobj': 36,\n",
       " 'discourse': 31,\n",
       " 'expl:comp': 28,\n",
       " 'csubj': 23,\n",
       " 'aux:caus': 9,\n",
       " 'dep': 8,\n",
       " 'obj:agent': 4,\n",
       " 'nsubj:caus': 4,\n",
       " 'orphan': 4,\n",
       " 'dislocated': 3,\n",
       " 'goeswith': 3,\n",
       " 'vocative': 1,\n",
       " 'obl:agent': 1,\n",
       " 'csubj:pass': 1}"
      ]
     },
     "metadata": {},
     "execution_count": 108
    }
   ],
   "source": [
    "dep_freqs_FR_top"
   ]
  },
  {
   "cell_type": "code",
   "execution_count": 109,
   "metadata": {},
   "outputs": [],
   "source": [
    "EN_deprel_value = list(val for val in dep_freqs_EN_top.values())\n",
    "EN_deprel_labels = list(key for key in dep_freqs_EN_top.keys())\n",
    "FR_deprel_value = list(val for val in dep_freqs_FR_top.values())\n",
    "FR_deprel_labels = list(key for key in dep_freqs_FR_top.keys())\n",
    "\n",
    "EN_deprel_TOPv = EN_deprel_value[:20]\n",
    "EN_deprel_TOPl = EN_deprel_labels[:20]\n",
    "FR_deprel_TOPv = FR_deprel_value[:20]\n",
    "FR_deprel_TOPl = FR_deprel_labels[:20]"
   ]
  },
  {
   "cell_type": "code",
   "execution_count": 110,
   "metadata": {},
   "outputs": [],
   "source": [
    "from pandas import DataFrame as df\n",
    "top_freq_tags = df({\"TOP_Dlabels_EN\": EN_deprel_TOPl, \"TOP_Dvalues_EN\": EN_deprel_TOPv, \"TOP_Dlabels_FR\": FR_deprel_TOPl, \"TOP_Dvalues_FR\": FR_deprel_TOPv})\n",
    "\n"
   ]
  },
  {
   "cell_type": "code",
   "execution_count": 111,
   "metadata": {},
   "outputs": [
    {
     "output_type": "execute_result",
     "data": {
      "text/plain": [
       "   TOP_Dlabels_EN  TOP_Dvalues_EN TOP_Dlabels_FR  TOP_Dvalues_FR\n",
       "0            case            2499            det            3858\n",
       "1           punct            2451           case            3415\n",
       "2             det            2047          punct            2554\n",
       "3           nsubj            1393           nmod            1859\n",
       "4            amod            1336            obl            1438\n",
       "5             obl            1237          nsubj            1418\n",
       "6            nmod            1076           amod            1394\n",
       "7            root            1000            obj            1082\n",
       "8             obj             876           root            1000\n",
       "9          advmod             852         advmod             921\n",
       "10       compound             810           conj             651\n",
       "11           conj             634              _             597\n",
       "12             cc             574      aux:tense             568\n",
       "13           mark             555             cc             544\n",
       "14            aux             410           mark             466\n",
       "15      nmod:poss             365          fixed             463\n",
       "16            cop             316          xcomp             397\n",
       "17          advcl             293          appos             278\n",
       "18       aux:pass             274      flat:name             252\n",
       "19          xcomp             271            cop             226"
      ],
      "text/html": "<div>\n<style scoped>\n    .dataframe tbody tr th:only-of-type {\n        vertical-align: middle;\n    }\n\n    .dataframe tbody tr th {\n        vertical-align: top;\n    }\n\n    .dataframe thead th {\n        text-align: right;\n    }\n</style>\n<table border=\"1\" class=\"dataframe\">\n  <thead>\n    <tr style=\"text-align: right;\">\n      <th></th>\n      <th>TOP_Dlabels_EN</th>\n      <th>TOP_Dvalues_EN</th>\n      <th>TOP_Dlabels_FR</th>\n      <th>TOP_Dvalues_FR</th>\n    </tr>\n  </thead>\n  <tbody>\n    <tr>\n      <th>0</th>\n      <td>case</td>\n      <td>2499</td>\n      <td>det</td>\n      <td>3858</td>\n    </tr>\n    <tr>\n      <th>1</th>\n      <td>punct</td>\n      <td>2451</td>\n      <td>case</td>\n      <td>3415</td>\n    </tr>\n    <tr>\n      <th>2</th>\n      <td>det</td>\n      <td>2047</td>\n      <td>punct</td>\n      <td>2554</td>\n    </tr>\n    <tr>\n      <th>3</th>\n      <td>nsubj</td>\n      <td>1393</td>\n      <td>nmod</td>\n      <td>1859</td>\n    </tr>\n    <tr>\n      <th>4</th>\n      <td>amod</td>\n      <td>1336</td>\n      <td>obl</td>\n      <td>1438</td>\n    </tr>\n    <tr>\n      <th>5</th>\n      <td>obl</td>\n      <td>1237</td>\n      <td>nsubj</td>\n      <td>1418</td>\n    </tr>\n    <tr>\n      <th>6</th>\n      <td>nmod</td>\n      <td>1076</td>\n      <td>amod</td>\n      <td>1394</td>\n    </tr>\n    <tr>\n      <th>7</th>\n      <td>root</td>\n      <td>1000</td>\n      <td>obj</td>\n      <td>1082</td>\n    </tr>\n    <tr>\n      <th>8</th>\n      <td>obj</td>\n      <td>876</td>\n      <td>root</td>\n      <td>1000</td>\n    </tr>\n    <tr>\n      <th>9</th>\n      <td>advmod</td>\n      <td>852</td>\n      <td>advmod</td>\n      <td>921</td>\n    </tr>\n    <tr>\n      <th>10</th>\n      <td>compound</td>\n      <td>810</td>\n      <td>conj</td>\n      <td>651</td>\n    </tr>\n    <tr>\n      <th>11</th>\n      <td>conj</td>\n      <td>634</td>\n      <td>_</td>\n      <td>597</td>\n    </tr>\n    <tr>\n      <th>12</th>\n      <td>cc</td>\n      <td>574</td>\n      <td>aux:tense</td>\n      <td>568</td>\n    </tr>\n    <tr>\n      <th>13</th>\n      <td>mark</td>\n      <td>555</td>\n      <td>cc</td>\n      <td>544</td>\n    </tr>\n    <tr>\n      <th>14</th>\n      <td>aux</td>\n      <td>410</td>\n      <td>mark</td>\n      <td>466</td>\n    </tr>\n    <tr>\n      <th>15</th>\n      <td>nmod:poss</td>\n      <td>365</td>\n      <td>fixed</td>\n      <td>463</td>\n    </tr>\n    <tr>\n      <th>16</th>\n      <td>cop</td>\n      <td>316</td>\n      <td>xcomp</td>\n      <td>397</td>\n    </tr>\n    <tr>\n      <th>17</th>\n      <td>advcl</td>\n      <td>293</td>\n      <td>appos</td>\n      <td>278</td>\n    </tr>\n    <tr>\n      <th>18</th>\n      <td>aux:pass</td>\n      <td>274</td>\n      <td>flat:name</td>\n      <td>252</td>\n    </tr>\n    <tr>\n      <th>19</th>\n      <td>xcomp</td>\n      <td>271</td>\n      <td>cop</td>\n      <td>226</td>\n    </tr>\n  </tbody>\n</table>\n</div>"
     },
     "metadata": {},
     "execution_count": 111
    }
   ],
   "source": [
    "top_freq_tags\n",
    "#AS can be seen, There are more dependency labels in French than in English."
   ]
  },
  {
   "cell_type": "code",
   "execution_count": 113,
   "metadata": {},
   "outputs": [],
   "source": [
    "TOP_Dlabels_EN= []\n",
    "TOP_Dlabels_FR = []\n",
    "TOP_Dlabels = []\n",
    "Contestant = []\n",
    "TOP_Dvalues = []\n",
    "for i in range(len(EN_deprel_TOPl)):\n",
    "    TOP_Dlabels_EN.append(\"TOP_Dlabels_EN\")\n",
    "    TOP_Dlabels_FR.append(\"TOP_Dlabels_FR\")\n",
    "Contestant = TOP_Dlabels_EN + TOP_Dlabels_FR\n",
    "TOP_Dlabels = EN_deprel_TOPl + FR_deprel_TOPl\n",
    "TOP_Dvalues = EN_deprel_TOPv + FR_deprel_TOPv\n"
   ]
  },
  {
   "cell_type": "code",
   "execution_count": 114,
   "metadata": {},
   "outputs": [
    {
     "output_type": "display_data",
     "data": {
      "application/vnd.plotly.v1+json": {
       "config": {
        "plotlyServerURL": "https://plot.ly"
       },
       "data": [
        {
         "alignmentgroup": "True",
         "hovertemplate": "Contestant=TOP_Dlabels_EN<br>TOP_Dlabels=%{x}<br>TOP_Dvalues=%{y}<extra></extra>",
         "legendgroup": "TOP_Dlabels_EN",
         "marker": {
          "color": "#636efa"
         },
         "name": "TOP_Dlabels_EN",
         "offsetgroup": "TOP_Dlabels_EN",
         "orientation": "v",
         "showlegend": true,
         "textposition": "auto",
         "type": "bar",
         "x": [
          "case",
          "punct",
          "det",
          "nsubj",
          "amod",
          "obl",
          "nmod",
          "root",
          "obj",
          "advmod",
          "compound",
          "conj",
          "cc",
          "mark",
          "aux",
          "nmod:poss",
          "cop",
          "advcl",
          "aux:pass",
          "xcomp"
         ],
         "xaxis": "x",
         "y": [
          2499,
          2451,
          2047,
          1393,
          1336,
          1237,
          1076,
          1000,
          876,
          852,
          810,
          634,
          574,
          555,
          410,
          365,
          316,
          293,
          274,
          271
         ],
         "yaxis": "y"
        },
        {
         "alignmentgroup": "True",
         "hovertemplate": "Contestant=TOP_Dlabels_FR<br>TOP_Dlabels=%{x}<br>TOP_Dvalues=%{y}<extra></extra>",
         "legendgroup": "TOP_Dlabels_FR",
         "marker": {
          "color": "#EF553B"
         },
         "name": "TOP_Dlabels_FR",
         "offsetgroup": "TOP_Dlabels_FR",
         "orientation": "v",
         "showlegend": true,
         "textposition": "auto",
         "type": "bar",
         "x": [
          "det",
          "case",
          "punct",
          "nmod",
          "obl",
          "nsubj",
          "amod",
          "obj",
          "root",
          "advmod",
          "conj",
          "_",
          "aux:tense",
          "cc",
          "mark",
          "fixed",
          "xcomp",
          "appos",
          "flat:name",
          "cop"
         ],
         "xaxis": "x",
         "y": [
          3858,
          3415,
          2554,
          1859,
          1438,
          1418,
          1394,
          1082,
          1000,
          921,
          651,
          597,
          568,
          544,
          466,
          463,
          397,
          278,
          252,
          226
         ],
         "yaxis": "y"
        }
       ],
       "layout": {
        "barmode": "group",
        "legend": {
         "title": {
          "text": "Contestant"
         },
         "tracegroupgap": 0
        },
        "margin": {
         "t": 60
        },
        "template": {
         "data": {
          "bar": [
           {
            "error_x": {
             "color": "#2a3f5f"
            },
            "error_y": {
             "color": "#2a3f5f"
            },
            "marker": {
             "line": {
              "color": "#E5ECF6",
              "width": 0.5
             }
            },
            "type": "bar"
           }
          ],
          "barpolar": [
           {
            "marker": {
             "line": {
              "color": "#E5ECF6",
              "width": 0.5
             }
            },
            "type": "barpolar"
           }
          ],
          "carpet": [
           {
            "aaxis": {
             "endlinecolor": "#2a3f5f",
             "gridcolor": "white",
             "linecolor": "white",
             "minorgridcolor": "white",
             "startlinecolor": "#2a3f5f"
            },
            "baxis": {
             "endlinecolor": "#2a3f5f",
             "gridcolor": "white",
             "linecolor": "white",
             "minorgridcolor": "white",
             "startlinecolor": "#2a3f5f"
            },
            "type": "carpet"
           }
          ],
          "choropleth": [
           {
            "colorbar": {
             "outlinewidth": 0,
             "ticks": ""
            },
            "type": "choropleth"
           }
          ],
          "contour": [
           {
            "colorbar": {
             "outlinewidth": 0,
             "ticks": ""
            },
            "colorscale": [
             [
              0,
              "#0d0887"
             ],
             [
              0.1111111111111111,
              "#46039f"
             ],
             [
              0.2222222222222222,
              "#7201a8"
             ],
             [
              0.3333333333333333,
              "#9c179e"
             ],
             [
              0.4444444444444444,
              "#bd3786"
             ],
             [
              0.5555555555555556,
              "#d8576b"
             ],
             [
              0.6666666666666666,
              "#ed7953"
             ],
             [
              0.7777777777777778,
              "#fb9f3a"
             ],
             [
              0.8888888888888888,
              "#fdca26"
             ],
             [
              1,
              "#f0f921"
             ]
            ],
            "type": "contour"
           }
          ],
          "contourcarpet": [
           {
            "colorbar": {
             "outlinewidth": 0,
             "ticks": ""
            },
            "type": "contourcarpet"
           }
          ],
          "heatmap": [
           {
            "colorbar": {
             "outlinewidth": 0,
             "ticks": ""
            },
            "colorscale": [
             [
              0,
              "#0d0887"
             ],
             [
              0.1111111111111111,
              "#46039f"
             ],
             [
              0.2222222222222222,
              "#7201a8"
             ],
             [
              0.3333333333333333,
              "#9c179e"
             ],
             [
              0.4444444444444444,
              "#bd3786"
             ],
             [
              0.5555555555555556,
              "#d8576b"
             ],
             [
              0.6666666666666666,
              "#ed7953"
             ],
             [
              0.7777777777777778,
              "#fb9f3a"
             ],
             [
              0.8888888888888888,
              "#fdca26"
             ],
             [
              1,
              "#f0f921"
             ]
            ],
            "type": "heatmap"
           }
          ],
          "heatmapgl": [
           {
            "colorbar": {
             "outlinewidth": 0,
             "ticks": ""
            },
            "colorscale": [
             [
              0,
              "#0d0887"
             ],
             [
              0.1111111111111111,
              "#46039f"
             ],
             [
              0.2222222222222222,
              "#7201a8"
             ],
             [
              0.3333333333333333,
              "#9c179e"
             ],
             [
              0.4444444444444444,
              "#bd3786"
             ],
             [
              0.5555555555555556,
              "#d8576b"
             ],
             [
              0.6666666666666666,
              "#ed7953"
             ],
             [
              0.7777777777777778,
              "#fb9f3a"
             ],
             [
              0.8888888888888888,
              "#fdca26"
             ],
             [
              1,
              "#f0f921"
             ]
            ],
            "type": "heatmapgl"
           }
          ],
          "histogram": [
           {
            "marker": {
             "colorbar": {
              "outlinewidth": 0,
              "ticks": ""
             }
            },
            "type": "histogram"
           }
          ],
          "histogram2d": [
           {
            "colorbar": {
             "outlinewidth": 0,
             "ticks": ""
            },
            "colorscale": [
             [
              0,
              "#0d0887"
             ],
             [
              0.1111111111111111,
              "#46039f"
             ],
             [
              0.2222222222222222,
              "#7201a8"
             ],
             [
              0.3333333333333333,
              "#9c179e"
             ],
             [
              0.4444444444444444,
              "#bd3786"
             ],
             [
              0.5555555555555556,
              "#d8576b"
             ],
             [
              0.6666666666666666,
              "#ed7953"
             ],
             [
              0.7777777777777778,
              "#fb9f3a"
             ],
             [
              0.8888888888888888,
              "#fdca26"
             ],
             [
              1,
              "#f0f921"
             ]
            ],
            "type": "histogram2d"
           }
          ],
          "histogram2dcontour": [
           {
            "colorbar": {
             "outlinewidth": 0,
             "ticks": ""
            },
            "colorscale": [
             [
              0,
              "#0d0887"
             ],
             [
              0.1111111111111111,
              "#46039f"
             ],
             [
              0.2222222222222222,
              "#7201a8"
             ],
             [
              0.3333333333333333,
              "#9c179e"
             ],
             [
              0.4444444444444444,
              "#bd3786"
             ],
             [
              0.5555555555555556,
              "#d8576b"
             ],
             [
              0.6666666666666666,
              "#ed7953"
             ],
             [
              0.7777777777777778,
              "#fb9f3a"
             ],
             [
              0.8888888888888888,
              "#fdca26"
             ],
             [
              1,
              "#f0f921"
             ]
            ],
            "type": "histogram2dcontour"
           }
          ],
          "mesh3d": [
           {
            "colorbar": {
             "outlinewidth": 0,
             "ticks": ""
            },
            "type": "mesh3d"
           }
          ],
          "parcoords": [
           {
            "line": {
             "colorbar": {
              "outlinewidth": 0,
              "ticks": ""
             }
            },
            "type": "parcoords"
           }
          ],
          "pie": [
           {
            "automargin": true,
            "type": "pie"
           }
          ],
          "scatter": [
           {
            "marker": {
             "colorbar": {
              "outlinewidth": 0,
              "ticks": ""
             }
            },
            "type": "scatter"
           }
          ],
          "scatter3d": [
           {
            "line": {
             "colorbar": {
              "outlinewidth": 0,
              "ticks": ""
             }
            },
            "marker": {
             "colorbar": {
              "outlinewidth": 0,
              "ticks": ""
             }
            },
            "type": "scatter3d"
           }
          ],
          "scattercarpet": [
           {
            "marker": {
             "colorbar": {
              "outlinewidth": 0,
              "ticks": ""
             }
            },
            "type": "scattercarpet"
           }
          ],
          "scattergeo": [
           {
            "marker": {
             "colorbar": {
              "outlinewidth": 0,
              "ticks": ""
             }
            },
            "type": "scattergeo"
           }
          ],
          "scattergl": [
           {
            "marker": {
             "colorbar": {
              "outlinewidth": 0,
              "ticks": ""
             }
            },
            "type": "scattergl"
           }
          ],
          "scattermapbox": [
           {
            "marker": {
             "colorbar": {
              "outlinewidth": 0,
              "ticks": ""
             }
            },
            "type": "scattermapbox"
           }
          ],
          "scatterpolar": [
           {
            "marker": {
             "colorbar": {
              "outlinewidth": 0,
              "ticks": ""
             }
            },
            "type": "scatterpolar"
           }
          ],
          "scatterpolargl": [
           {
            "marker": {
             "colorbar": {
              "outlinewidth": 0,
              "ticks": ""
             }
            },
            "type": "scatterpolargl"
           }
          ],
          "scatterternary": [
           {
            "marker": {
             "colorbar": {
              "outlinewidth": 0,
              "ticks": ""
             }
            },
            "type": "scatterternary"
           }
          ],
          "surface": [
           {
            "colorbar": {
             "outlinewidth": 0,
             "ticks": ""
            },
            "colorscale": [
             [
              0,
              "#0d0887"
             ],
             [
              0.1111111111111111,
              "#46039f"
             ],
             [
              0.2222222222222222,
              "#7201a8"
             ],
             [
              0.3333333333333333,
              "#9c179e"
             ],
             [
              0.4444444444444444,
              "#bd3786"
             ],
             [
              0.5555555555555556,
              "#d8576b"
             ],
             [
              0.6666666666666666,
              "#ed7953"
             ],
             [
              0.7777777777777778,
              "#fb9f3a"
             ],
             [
              0.8888888888888888,
              "#fdca26"
             ],
             [
              1,
              "#f0f921"
             ]
            ],
            "type": "surface"
           }
          ],
          "table": [
           {
            "cells": {
             "fill": {
              "color": "#EBF0F8"
             },
             "line": {
              "color": "white"
             }
            },
            "header": {
             "fill": {
              "color": "#C8D4E3"
             },
             "line": {
              "color": "white"
             }
            },
            "type": "table"
           }
          ]
         },
         "layout": {
          "annotationdefaults": {
           "arrowcolor": "#2a3f5f",
           "arrowhead": 0,
           "arrowwidth": 1
          },
          "autotypenumbers": "strict",
          "coloraxis": {
           "colorbar": {
            "outlinewidth": 0,
            "ticks": ""
           }
          },
          "colorscale": {
           "diverging": [
            [
             0,
             "#8e0152"
            ],
            [
             0.1,
             "#c51b7d"
            ],
            [
             0.2,
             "#de77ae"
            ],
            [
             0.3,
             "#f1b6da"
            ],
            [
             0.4,
             "#fde0ef"
            ],
            [
             0.5,
             "#f7f7f7"
            ],
            [
             0.6,
             "#e6f5d0"
            ],
            [
             0.7,
             "#b8e186"
            ],
            [
             0.8,
             "#7fbc41"
            ],
            [
             0.9,
             "#4d9221"
            ],
            [
             1,
             "#276419"
            ]
           ],
           "sequential": [
            [
             0,
             "#0d0887"
            ],
            [
             0.1111111111111111,
             "#46039f"
            ],
            [
             0.2222222222222222,
             "#7201a8"
            ],
            [
             0.3333333333333333,
             "#9c179e"
            ],
            [
             0.4444444444444444,
             "#bd3786"
            ],
            [
             0.5555555555555556,
             "#d8576b"
            ],
            [
             0.6666666666666666,
             "#ed7953"
            ],
            [
             0.7777777777777778,
             "#fb9f3a"
            ],
            [
             0.8888888888888888,
             "#fdca26"
            ],
            [
             1,
             "#f0f921"
            ]
           ],
           "sequentialminus": [
            [
             0,
             "#0d0887"
            ],
            [
             0.1111111111111111,
             "#46039f"
            ],
            [
             0.2222222222222222,
             "#7201a8"
            ],
            [
             0.3333333333333333,
             "#9c179e"
            ],
            [
             0.4444444444444444,
             "#bd3786"
            ],
            [
             0.5555555555555556,
             "#d8576b"
            ],
            [
             0.6666666666666666,
             "#ed7953"
            ],
            [
             0.7777777777777778,
             "#fb9f3a"
            ],
            [
             0.8888888888888888,
             "#fdca26"
            ],
            [
             1,
             "#f0f921"
            ]
           ]
          },
          "colorway": [
           "#636efa",
           "#EF553B",
           "#00cc96",
           "#ab63fa",
           "#FFA15A",
           "#19d3f3",
           "#FF6692",
           "#B6E880",
           "#FF97FF",
           "#FECB52"
          ],
          "font": {
           "color": "#2a3f5f"
          },
          "geo": {
           "bgcolor": "white",
           "lakecolor": "white",
           "landcolor": "#E5ECF6",
           "showlakes": true,
           "showland": true,
           "subunitcolor": "white"
          },
          "hoverlabel": {
           "align": "left"
          },
          "hovermode": "closest",
          "mapbox": {
           "style": "light"
          },
          "paper_bgcolor": "white",
          "plot_bgcolor": "#E5ECF6",
          "polar": {
           "angularaxis": {
            "gridcolor": "white",
            "linecolor": "white",
            "ticks": ""
           },
           "bgcolor": "#E5ECF6",
           "radialaxis": {
            "gridcolor": "white",
            "linecolor": "white",
            "ticks": ""
           }
          },
          "scene": {
           "xaxis": {
            "backgroundcolor": "#E5ECF6",
            "gridcolor": "white",
            "gridwidth": 2,
            "linecolor": "white",
            "showbackground": true,
            "ticks": "",
            "zerolinecolor": "white"
           },
           "yaxis": {
            "backgroundcolor": "#E5ECF6",
            "gridcolor": "white",
            "gridwidth": 2,
            "linecolor": "white",
            "showbackground": true,
            "ticks": "",
            "zerolinecolor": "white"
           },
           "zaxis": {
            "backgroundcolor": "#E5ECF6",
            "gridcolor": "white",
            "gridwidth": 2,
            "linecolor": "white",
            "showbackground": true,
            "ticks": "",
            "zerolinecolor": "white"
           }
          },
          "shapedefaults": {
           "line": {
            "color": "#2a3f5f"
           }
          },
          "ternary": {
           "aaxis": {
            "gridcolor": "white",
            "linecolor": "white",
            "ticks": ""
           },
           "baxis": {
            "gridcolor": "white",
            "linecolor": "white",
            "ticks": ""
           },
           "bgcolor": "#E5ECF6",
           "caxis": {
            "gridcolor": "white",
            "linecolor": "white",
            "ticks": ""
           }
          },
          "title": {
           "x": 0.05
          },
          "xaxis": {
           "automargin": true,
           "gridcolor": "white",
           "linecolor": "white",
           "ticks": "",
           "title": {
            "standoff": 15
           },
           "zerolinecolor": "white",
           "zerolinewidth": 2
          },
          "yaxis": {
           "automargin": true,
           "gridcolor": "white",
           "linecolor": "white",
           "ticks": "",
           "title": {
            "standoff": 15
           },
           "zerolinecolor": "white",
           "zerolinewidth": 2
          }
         }
        },
        "xaxis": {
         "anchor": "y",
         "domain": [
          0,
          1
         ],
         "title": {
          "text": "TOP_Dlabels"
         }
        },
        "yaxis": {
         "anchor": "x",
         "domain": [
          0,
          1
         ],
         "title": {
          "text": "TOP_Dvalues"
         }
        }
       }
      }
     },
     "metadata": {}
    }
   ],
   "source": [
    "import pandas as pd\n",
    "\n",
    "\n",
    "df = pd.DataFrame({\n",
    "\n",
    "    \"TOP_Dlabels\" : TOP_Dlabels,\n",
    "    \"Contestant\": Contestant,\n",
    "    \"TOP_Dvalues\": TOP_Dvalues,\n",
    "})\n",
    "\n",
    "import plotly.express as px\n",
    "\n",
    "fig = px.bar(df, x=\"TOP_Dlabels\", y=\"TOP_Dvalues\", color=\"Contestant\", barmode=\"group\")\n",
    "fig.show()\n"
   ]
  },
  {
   "cell_type": "code",
   "execution_count": null,
   "metadata": {},
   "outputs": [],
   "source": []
  }
 ],
 "metadata": {
  "kernelspec": {
   "name": "python394jvsc74a57bd0b8c4a75bd97be1d0b01736db385c1515848a117117cb2b91ae91da64473477ca",
   "display_name": "Python 3.9.4 64-bit"
  },
  "language_info": {
   "codemirror_mode": {
    "name": "ipython",
    "version": 3
   },
   "file_extension": ".py",
   "mimetype": "text/x-python",
   "name": "python",
   "nbconvert_exporter": "python",
   "pygments_lexer": "ipython3",
   "version": "3.9.4-final"
  },
  "metadata": {
   "interpreter": {
    "hash": "b8c4a75bd97be1d0b01736db385c1515848a117117cb2b91ae91da64473477ca"
   }
  }
 },
 "nbformat": 4,
 "nbformat_minor": 4
}